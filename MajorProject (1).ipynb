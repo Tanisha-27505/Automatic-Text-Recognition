{
  "cells": [
    {
      "cell_type": "markdown",
      "metadata": {
        "id": "HgzMdMoHeNvl"
      },
      "source": [
        "# pip installs"
      ]
    },
    {
      "cell_type": "code",
      "execution_count": null,
      "metadata": {
        "id": "DuIf0mOIoqq1"
      },
      "outputs": [],
      "source": [
        "pip install colabcode"
      ]
    },
    {
      "cell_type": "code",
      "execution_count": null,
      "metadata": {
        "colab": {
          "base_uri": "https://localhost:8080/"
        },
        "id": "JgIQysvUos2L",
        "outputId": "db397969-7b1e-4c7e-e651-7148b36f138e"
      },
      "outputs": [
        {
          "output_type": "stream",
          "name": "stdout",
          "text": [
            "Collecting fastapi\n",
            "  Downloading fastapi-0.76.0-py3-none-any.whl (54 kB)\n",
            "\u001b[K     |████████████████████████████████| 54 kB 2.7 MB/s \n",
            "\u001b[?25hCollecting starlette==0.18.0\n",
            "  Downloading starlette-0.18.0-py3-none-any.whl (59 kB)\n",
            "\u001b[K     |████████████████████████████████| 59 kB 8.1 MB/s \n",
            "\u001b[?25hCollecting pydantic!=1.7,!=1.7.1,!=1.7.2,!=1.7.3,!=1.8,!=1.8.1,<2.0.0,>=1.6.2\n",
            "  Downloading pydantic-1.9.0-cp37-cp37m-manylinux_2_17_x86_64.manylinux2014_x86_64.whl (10.9 MB)\n",
            "\u001b[K     |████████████████████████████████| 10.9 MB 74.2 MB/s \n",
            "\u001b[?25hRequirement already satisfied: anyio<4,>=3.0.0 in /usr/local/lib/python3.7/dist-packages (from starlette==0.18.0->fastapi) (3.5.0)\n",
            "Requirement already satisfied: typing-extensions in /usr/local/lib/python3.7/dist-packages (from starlette==0.18.0->fastapi) (4.2.0)\n",
            "Requirement already satisfied: idna>=2.8 in /usr/local/lib/python3.7/dist-packages (from anyio<4,>=3.0.0->starlette==0.18.0->fastapi) (2.10)\n",
            "Requirement already satisfied: sniffio>=1.1 in /usr/local/lib/python3.7/dist-packages (from anyio<4,>=3.0.0->starlette==0.18.0->fastapi) (1.2.0)\n",
            "Installing collected packages: starlette, pydantic, fastapi\n",
            "Successfully installed fastapi-0.76.0 pydantic-1.9.0 starlette-0.18.0\n"
          ]
        }
      ],
      "source": [
        "pip install fastapi"
      ]
    },
    {
      "cell_type": "code",
      "execution_count": null,
      "metadata": {
        "colab": {
          "base_uri": "https://localhost:8080/"
        },
        "id": "WtXZmWjGX3Ov",
        "outputId": "5c0080a3-58bb-447d-ae7d-42bb01ff0945"
      },
      "outputs": [
        {
          "output_type": "stream",
          "name": "stdout",
          "text": [
            "Collecting pypdf2\n",
            "  Downloading PyPDF2-1.27.12-py3-none-any.whl (80 kB)\n",
            "\u001b[?25l\r\u001b[K     |████                            | 10 kB 35.7 MB/s eta 0:00:01\r\u001b[K     |████████▏                       | 20 kB 44.4 MB/s eta 0:00:01\r\u001b[K     |████████████▎                   | 30 kB 34.3 MB/s eta 0:00:01\r\u001b[K     |████████████████▍               | 40 kB 16.4 MB/s eta 0:00:01\r\u001b[K     |████████████████████▌           | 51 kB 13.4 MB/s eta 0:00:01\r\u001b[K     |████████████████████████▋       | 61 kB 15.7 MB/s eta 0:00:01\r\u001b[K     |████████████████████████████▋   | 71 kB 15.1 MB/s eta 0:00:01\r\u001b[K     |████████████████████████████████| 80 kB 6.7 MB/s \n",
            "\u001b[?25hInstalling collected packages: pypdf2\n",
            "Successfully installed pypdf2-1.27.12\n"
          ]
        }
      ],
      "source": [
        "pip install pypdf2"
      ]
    },
    {
      "cell_type": "code",
      "execution_count": null,
      "metadata": {
        "colab": {
          "base_uri": "https://localhost:8080/"
        },
        "id": "yPgCnEBteTW9",
        "outputId": "d7260e4d-f505-487f-e4bc-5d72aa3de914"
      },
      "outputs": [
        {
          "output_type": "stream",
          "name": "stdout",
          "text": [
            "Collecting PyMuPDF\n",
            "  Downloading PyMuPDF-1.19.6-cp37-cp37m-manylinux_2_17_x86_64.manylinux2014_x86_64.whl (8.8 MB)\n",
            "\u001b[K     |████████████████████████████████| 8.8 MB 12.5 MB/s \n",
            "\u001b[?25hInstalling collected packages: PyMuPDF\n",
            "Successfully installed PyMuPDF-1.19.6\n"
          ]
        }
      ],
      "source": [
        "pip install PyMuPDF"
      ]
    },
    {
      "cell_type": "code",
      "execution_count": null,
      "metadata": {
        "colab": {
          "base_uri": "https://localhost:8080/"
        },
        "id": "yUcRYqO5eT_D",
        "outputId": "4a45d6fc-b9b7-4bfa-e6ed-1e56902d5665"
      },
      "outputs": [
        {
          "output_type": "stream",
          "name": "stdout",
          "text": [
            "Requirement already satisfied: pillow in /usr/local/lib/python3.7/dist-packages (7.1.2)\n"
          ]
        }
      ],
      "source": [
        "pip install pillow"
      ]
    },
    {
      "cell_type": "markdown",
      "metadata": {
        "id": "xAVA2mrueZR6"
      },
      "source": [
        "# directory reads"
      ]
    },
    {
      "cell_type": "code",
      "execution_count": null,
      "metadata": {
        "colab": {
          "base_uri": "https://localhost:8080/"
        },
        "id": "Y1FGLiLlec8O",
        "outputId": "7ed22125-c931-4cd5-f560-a2e32edcf394"
      },
      "outputs": [
        {
          "output_type": "stream",
          "name": "stdout",
          "text": [
            "['/content/barakhadi_files/ushi_barakhadi.pdf', '/content/barakhadi_files/barakhadi_3.pdf', '/content/barakhadi_files/mavshi_barakhadi.pdf', '/content/barakhadi_files/barakhadi_tushar.pdf', '/content/barakhadi_files/dad_barakhadi1.pdf']\n",
            "barakhadi_files/ushi_barakhadi.pdf\n",
            "barakhadi_files/barakhadi_3.pdf\n",
            "barakhadi_files/mavshi_barakhadi.pdf\n",
            "barakhadi_files/barakhadi_tushar.pdf\n",
            "barakhadi_files/dad_barakhadi1.pdf\n"
          ]
        }
      ],
      "source": [
        "import glob\n",
        "pdfs = glob.glob(\"/content/barakhadi_files\" + '/*.pdf')\n",
        "print(pdfs)\n",
        "for filename in pdfs:\n",
        "  print(filename[9:])"
      ]
    },
    {
      "cell_type": "code",
      "execution_count": null,
      "metadata": {
        "colab": {
          "base_uri": "https://localhost:8080/"
        },
        "id": "DQD7a6wceg5H",
        "outputId": "30ebcb2b-5d3b-48f3-82d0-806927da30e8"
      },
      "outputs": [
        {
          "output_type": "stream",
          "name": "stdout",
          "text": [
            "2\n",
            "2\n",
            "2\n",
            "2\n",
            "2\n"
          ]
        }
      ],
      "source": [
        "import PyPDF2 as pdf\n",
        "myPDF = [None] * len(pdfs)\n",
        "myPDFReader = [None] * len(pdfs)\n",
        "i=0\n",
        "for filename in pdfs:\n",
        "  myPDF[i] = open(filename[9:],'rb')\n",
        "  myPDFReader[i] = pdf.PdfFileReader(myPDF[i])\n",
        "  print(myPDFReader[i].numPages)\n",
        "  i=i+1"
      ]
    },
    {
      "cell_type": "code",
      "execution_count": null,
      "metadata": {
        "id": "WCQaUXuuejft"
      },
      "outputs": [],
      "source": [
        "# Delete directories in Python using shutil\n",
        "import shutil\n",
        "path = '/content/barakhadi'\n",
        "shutil.rmtree(path, ignore_errors=True)"
      ]
    },
    {
      "cell_type": "markdown",
      "metadata": {
        "id": "t6UuY4_qe2Jd"
      },
      "source": [
        "# basic character classification"
      ]
    },
    {
      "cell_type": "code",
      "execution_count": null,
      "metadata": {
        "colab": {
          "base_uri": "https://localhost:8080/",
          "height": 252
        },
        "id": "uKG_ajUNe6Hj",
        "outputId": "a1324063-2658-4238-c057-c8ae4ecb5337"
      },
      "outputs": [
        {
          "ename": "AttributeError",
          "evalue": "ignored",
          "output_type": "error",
          "traceback": [
            "\u001b[0;31m---------------------------------------------------------------------------\u001b[0m",
            "\u001b[0;31mAttributeError\u001b[0m                            Traceback (most recent call last)",
            "\u001b[0;32m<ipython-input-7-cc929b1b9b04>\u001b[0m in \u001b[0;36m<module>\u001b[0;34m()\u001b[0m\n\u001b[1;32m      2\u001b[0m \u001b[0mos\u001b[0m\u001b[0;34m.\u001b[0m\u001b[0mmkdir\u001b[0m\u001b[0;34m(\u001b[0m\u001b[0;34m'/content/barakhadi'\u001b[0m\u001b[0;34m)\u001b[0m\u001b[0;34m\u001b[0m\u001b[0;34m\u001b[0m\u001b[0m\n\u001b[1;32m      3\u001b[0m \u001b[0mcharacters\u001b[0m \u001b[0;34m=\u001b[0m \u001b[0;34m[\u001b[0m\u001b[0;34m'ka'\u001b[0m\u001b[0;34m,\u001b[0m\u001b[0;34m'kha'\u001b[0m\u001b[0;34m,\u001b[0m\u001b[0;34m'ga'\u001b[0m\u001b[0;34m,\u001b[0m\u001b[0;34m'gha'\u001b[0m\u001b[0;34m,\u001b[0m\u001b[0;34m'ang'\u001b[0m\u001b[0;34m,\u001b[0m\u001b[0;34m'cha'\u001b[0m\u001b[0;34m,\u001b[0m\u001b[0;34m'chha'\u001b[0m\u001b[0;34m,\u001b[0m\u001b[0;34m'ja'\u001b[0m\u001b[0;34m,\u001b[0m\u001b[0;34m'za'\u001b[0m\u001b[0;34m,\u001b[0m\u001b[0;34m'nya'\u001b[0m\u001b[0;34m,\u001b[0m\u001b[0;34m'Ta'\u001b[0m\u001b[0;34m,\u001b[0m\u001b[0;34m'Tha'\u001b[0m\u001b[0;34m,\u001b[0m\u001b[0;34m'Da'\u001b[0m\u001b[0;34m,\u001b[0m\u001b[0;34m'Dha'\u001b[0m\u001b[0;34m,\u001b[0m\u001b[0;34m'ana'\u001b[0m\u001b[0;34m,\u001b[0m\u001b[0;34m'ta'\u001b[0m\u001b[0;34m,\u001b[0m\u001b[0;34m'tha'\u001b[0m\u001b[0;34m,\u001b[0m\u001b[0;34m'da'\u001b[0m\u001b[0;34m,\u001b[0m\u001b[0;34m'dha'\u001b[0m\u001b[0;34m,\u001b[0m\u001b[0;34m'na'\u001b[0m\u001b[0;34m]\u001b[0m\u001b[0;34m\u001b[0m\u001b[0;34m\u001b[0m\u001b[0m\n\u001b[0;32m----> 4\u001b[0;31m \u001b[0mpage\u001b[0m \u001b[0;34m=\u001b[0m \u001b[0mmyPDFReader\u001b[0m\u001b[0;34m.\u001b[0m\u001b[0mgetPage\u001b[0m\u001b[0;34m(\u001b[0m\u001b[0;36m0\u001b[0m\u001b[0;34m)\u001b[0m\u001b[0;34m\u001b[0m\u001b[0;34m\u001b[0m\u001b[0m\n\u001b[0m\u001b[1;32m      5\u001b[0m \u001b[0mprint\u001b[0m\u001b[0;34m(\u001b[0m\u001b[0mpage\u001b[0m\u001b[0;34m.\u001b[0m\u001b[0mmediaBox\u001b[0m\u001b[0;34m.\u001b[0m\u001b[0mgetUpperRight_x\u001b[0m\u001b[0;34m(\u001b[0m\u001b[0;34m)\u001b[0m\u001b[0;34m,\u001b[0m \u001b[0mpage\u001b[0m\u001b[0;34m.\u001b[0m\u001b[0mmediaBox\u001b[0m\u001b[0;34m.\u001b[0m\u001b[0mgetUpperRight_y\u001b[0m\u001b[0;34m(\u001b[0m\u001b[0;34m)\u001b[0m\u001b[0;34m)\u001b[0m\u001b[0;34m\u001b[0m\u001b[0;34m\u001b[0m\u001b[0m\n\u001b[1;32m      6\u001b[0m \u001b[0;31m#page.trimBox.lowerLeft = (25, 25)\u001b[0m\u001b[0;34m\u001b[0m\u001b[0;34m\u001b[0m\u001b[0;34m\u001b[0m\u001b[0m\n",
            "\u001b[0;31mAttributeError\u001b[0m: 'list' object has no attribute 'getPage'"
          ]
        }
      ],
      "source": [
        "import os\n",
        "os.mkdir('/content/barakhadi')\n",
        "characters = ['ka','kha','ga','gha','ang','cha','chha','ja','za','nya','Ta','Tha','Da','Dha','ana','ta','tha','da','dha','na']\n",
        "page = myPDFReader.getPage(0)\n",
        "print(page.mediaBox.getUpperRight_x(), page.mediaBox.getUpperRight_y())\n",
        "#page.trimBox.lowerLeft = (25, 25)\n",
        "#page.trimBox.upperRight = (225, 225)\n",
        "for i in range(19):\n",
        "  os.mkdir(\"/content/barakhadi/\" + characters[18-i])\n",
        "  for j in range(12):\n",
        "    output = pdf.PdfFileWriter()\n",
        "    page.cropBox.lowerLeft = (50 + 41.5*j, 96 + 33.8*i)\n",
        "    page.cropBox.upperRight = (91.5 + 41.5*j, 128.8 + 33.8*i)\n",
        "    output.addPage(page)\n",
        "    with open(\"/content/barakhadi/\" + characters[18-i] +\"/out_\" + characters[18-i] + \"_\" + str(j+1) + \".pdf\", \"wb\") as out_f:\n",
        "      output.write(out_f)"
      ]
    },
    {
      "cell_type": "markdown",
      "metadata": {
        "id": "nPzwuMRHiMdb"
      },
      "source": [
        "# Specific folder classification"
      ]
    },
    {
      "cell_type": "code",
      "execution_count": null,
      "metadata": {
        "colab": {
          "base_uri": "https://localhost:8080/"
        },
        "id": "lapbiyN5e7QO",
        "outputId": "d2495142-3957-43d9-8210-dd246f04aa0b"
      },
      "outputs": [
        {
          "output_type": "stream",
          "name": "stdout",
          "text": [
            "591.5 792.0\n",
            "592.6 792.0\n",
            "596.5 792.0\n",
            "589.2 792.0\n",
            "580.8 792.0\n",
            "582.8 792.0\n",
            "588.6 792.0\n",
            "612.0 790.5\n",
            "594.0 792.0\n",
            "584.5 792.0\n"
          ]
        }
      ],
      "source": [
        "import os\n",
        "import fitz\n",
        "os.mkdir('/content/barakhadi')\n",
        "pages = [None] * len(pdfs)\n",
        "output = [None] * len(pdfs)\n",
        "vyanjan = [['ka','kha','ga','gha','ang','cha','chha','ja','za','nya','Tta','Ttha','Dda','Ddha','ana','ta','tha','da','dha'],['na','pa','pha','ba','bha','ma','ya','ra','la','va','sha','ssha','sa','ha','ksha','tra','dnya','blank','x']]\n",
        "swara = ['a','aa','e','ee','u','uu','ae','ai','ao','au','am','aha']\n",
        "for p in range(2):\n",
        "  for k in range(len(pdfs)):\n",
        "    pages[k] = myPDFReader[k].getPage(p)\n",
        "    print(pages[k].mediaBox.getUpperRight_x(), pages[k].mediaBox.getUpperRight_y())\n",
        "  #page.trimBox.lowerLeft = (25, 25)\n",
        "  #page.trimBox.upperRight = (225, 225)\n",
        "  for i in range(19):\n",
        "    os.mkdir(\"/content/barakhadi/\" + vyanjan[p][18-i])\n",
        "    for j in range(12):\n",
        "      for l in range(len(pdfs)):\n",
        "        output[l] = pdf.PdfFileWriter()\n",
        "        pages[l].cropBox.lowerLeft = (0 + 49*j, 0 + 42*i)\n",
        "        pages[l].cropBox.upperRight = (49 + 49*j, 42 + 42*i)\n",
        "        output[l].addPage(pages[l])\n",
        "        with open(\"/content/barakhadi/\" + vyanjan[p][18-i] +\"/out_\" + vyanjan[p][18-i] + \"_\" + swara[j] + \"_\" + str(l+1) + \".pdf\", \"wb\") as out_f:\n",
        "          output[l].write(out_f)"
      ]
    },
    {
      "cell_type": "markdown",
      "metadata": {
        "id": "B6_N98iviqsc"
      },
      "source": [
        "# pdf to jpg conversion"
      ]
    },
    {
      "cell_type": "code",
      "execution_count": null,
      "metadata": {
        "id": "LiL0M30wpz1c"
      },
      "outputs": [],
      "source": [
        "# Delete directories in Python using shutil\n",
        "import shutil\n",
        "path = '/content/barakhadi_jpg'\n",
        "shutil.rmtree(path, ignore_errors=True)"
      ]
    },
    {
      "cell_type": "code",
      "execution_count": null,
      "metadata": {
        "id": "ZeONOlnepLOb"
      },
      "outputs": [],
      "source": [
        "os.mkdir('/content/barakhadi_jpg')"
      ]
    },
    {
      "cell_type": "code",
      "execution_count": null,
      "metadata": {
        "colab": {
          "base_uri": "https://localhost:8080/"
        },
        "id": "dqJrYw-Xl3Be",
        "outputId": "d07c01f2-b672-4a19-8593-a7fcd9fee6bc"
      },
      "outputs": [
        {
          "output_type": "stream",
          "name": "stderr",
          "text": [
            "Deprecation: 'loadPage' removed from class 'Document' after v1.19 - use 'load_page'.\n"
          ]
        }
      ],
      "source": [
        "vyanjan_jpg = ['ka','kha','ga','gha','ang','cha','chha','ja','za','nya','Tta','Ttha','Dda','Ddha','ana','ta','tha','da','dha','na','pa','pha','ba','bha','ma','ya','ra','la','va','sha','ssha','sa','ha','ksha','tra','dnya','blank','x']\n",
        "swara_jpg = ['a','aa','e','ee','u','uu','ae','ai','ao','au','am','aha']\n",
        "import fitz \n",
        "for i in range(38):\n",
        "  os.mkdir(\"/content/barakhadi_jpg/\" + vyanjan_jpg[37-i])\n",
        "  for j in range(12):\n",
        "      for l in range(len(pdfs)):\n",
        "          pdffile = \"/content/barakhadi/\" + vyanjan_jpg[37-i] +\"/out_\" + vyanjan_jpg[37-i] + \"_\" + swara_jpg[j] + \"_\" + str(l+1) + \".pdf\"\n",
        "          doc = fitz.open(pdffile)\n",
        "          page = doc.loadPage(0)\n",
        "          pix = page.get_pixmap()\n",
        "          output = \"/content/barakhadi_jpg/\" + vyanjan_jpg[37-i] +\"/out_\" + vyanjan_jpg[37-i] + \"_\" + swara_jpg[j] + \"_\" + str(l+1) + \".jpg\"\n",
        "          pix.save(output)\n"
      ]
    },
    {
      "cell_type": "code",
      "execution_count": null,
      "metadata": {
        "id": "CHbfuQxye-66"
      },
      "outputs": [],
      "source": [
        "#creating zip file of the OUTPUT\n",
        "import shutil\n",
        "shutil.make_archive('/content/barakhadi', 'zip', '/content/barakhadi')"
      ]
    },
    {
      "cell_type": "markdown",
      "metadata": {
        "id": "G58ifi3Iq0RJ"
      },
      "source": [
        "# Feature Extraction"
      ]
    },
    {
      "cell_type": "code",
      "execution_count": null,
      "metadata": {
        "id": "hktE7A0JXiuk"
      },
      "outputs": [],
      "source": [
        "# Delete directories in Python using shutil\n",
        "import shutil\n",
        "path = '/content/barakhadi_lbp'\n",
        "shutil.rmtree(path, ignore_errors=True)"
      ]
    },
    {
      "cell_type": "code",
      "source": [
        "os.mkdir('/content/barakhadi_hog')"
      ],
      "metadata": {
        "id": "cVu-n6pq7Jx3"
      },
      "execution_count": null,
      "outputs": []
    },
    {
      "cell_type": "code",
      "execution_count": null,
      "metadata": {
        "id": "aKPHrwigW1RR"
      },
      "outputs": [],
      "source": [
        "import cv2\n",
        "import os\n",
        "import glob\n",
        "import numpy as np\n",
        "from skimage import data, color, feature\n",
        "import skimage.data\n",
        "\n",
        "#importing required libraries\n",
        "from skimage.io import imread\n",
        "from skimage.transform import resize\n",
        "from skimage.feature import hog\n",
        "from skimage import exposure\n",
        "import matplotlib.pyplot as plt\n",
        "img_dir = \"images\" \n",
        "data_path = os.path.join(img_dir,'*g')\n",
        "files = glob.glob(data_path)\n",
        "data = []\n",
        "\n",
        "vyanjan_jpg = ['ka','kha','ga','gha','ang','cha','chha','ja','za','nya','Tta','Ttha','Dda','Ddha','ana','ta','tha','da','dha','na','pa','pha','ba','bha','ma','ya','ra','la','va','sha','ssha','sa','ha','ksha','tra','dnya','blank','x']\n",
        "swara_jpg = ['a','aa','e','ee','u','uu','ae','ai','ao','au','am','aha']\n",
        "import fitz \n",
        "for i in range(38):\n",
        "  os.mkdir(\"/content/barakhadi_hog/\" + vyanjan_jpg[37-i])\n",
        "  for j in range(12):\n",
        "      for k in range(len(pdfs)):\n",
        "          input = \"/content/barakhadi_jpg/\" + vyanjan_jpg[37-i] +\"/out_\" + vyanjan_jpg[37-i] + \"_\" + swara_jpg[j] + \"_\" + str(k+1) + \".jpg\"\n",
        "          img = cv2.imread(input)\n",
        "          resized_img = resize(img, (128, 128))\n",
        "          fd, hog_image = hog(resized_img, orientations=9, pixels_per_cell=(8, 8), cells_per_block=(2,2), visualize=True, multichannel=True)\n",
        "          plt.imsave(\"/content/barakhadi_hog/\" + vyanjan_jpg[37-i] +\"/out_\" + vyanjan_jpg[37-i] + \"_\" + swara_jpg[j] + \"_\" + str(k+1) + \".jpg\", hog_image, cmap=\"gray\")"
      ]
    },
    {
      "cell_type": "markdown",
      "metadata": {
        "id": "ZemzkOofWuhf"
      },
      "source": [
        "# LBP"
      ]
    },
    {
      "cell_type": "code",
      "execution_count": null,
      "metadata": {
        "id": "zZiqp-jFt20B"
      },
      "outputs": [],
      "source": [
        "# Delete directories in Python using shutil\n",
        "import shutil\n",
        "path = '/content/barakhadi_lbp'\n",
        "shutil.rmtree(path, ignore_errors=True)"
      ]
    },
    {
      "cell_type": "code",
      "execution_count": null,
      "metadata": {
        "id": "to1yAlP2q3R9"
      },
      "outputs": [],
      "source": [
        "import cv2 \n",
        "from matplotlib import pyplot as plt"
      ]
    },
    {
      "cell_type": "code",
      "execution_count": null,
      "metadata": {
        "id": "P1Rx6TOlrAGo"
      },
      "outputs": [],
      "source": [
        "def lbp(photo):\n",
        "  import cv2 \n",
        "  import numpy as np \n",
        "  def assign_bit(picture, x, y, c):   #comparing bit with threshold value of centre pixel\n",
        "      bit = 0  \n",
        "      try:          \n",
        "          if picture[x][y] >= c: \n",
        "              bit = 1         \n",
        "      except: \n",
        "          pass\n",
        "      return bit \n",
        "  def local_bin_val(picture, x, y):  #calculating local binary pattern value of a pixel\n",
        "      eight_bit_binary = []\n",
        "      centre = picture[x][y] \n",
        "      powers = [1, 2, 4, 8, 16, 32, 64, 128] \n",
        "      decimal_val = 0\n",
        "      #starting from top right,assigning bit to pixels clockwise \n",
        "      eight_bit_binary.append(assign_bit(picture, x-1, y + 1,centre)) \n",
        "      eight_bit_binary.append(assign_bit(picture, x, y + 1, centre)) \n",
        "      eight_bit_binary.append(assign_bit(picture, x + 1, y + 1, centre)) \n",
        "      eight_bit_binary.append(assign_bit(picture, x + 1, y, centre)) \n",
        "      eight_bit_binary.append(assign_bit(picture, x + 1, y-1, centre)) \n",
        "      eight_bit_binary.append(assign_bit(picture, x, y-1, centre)) \n",
        "      eight_bit_binary.append(assign_bit(picture, x-1, y-1, centre)) \n",
        "      eight_bit_binary.append(assign_bit(picture, x-1, y, centre))     \n",
        "      #calculating decimal value of the 8-bit binary number\n",
        "      for i in range(len(eight_bit_binary)): \n",
        "          decimal_val += eight_bit_binary[i] * powers[i] \n",
        "            \n",
        "      return decimal_val \n",
        "  m, n, _ = photo.shape \n",
        "  gray_scale = cv2.cvtColor(photo, cv2.COLOR_BGR2GRAY)  #converting image to grayscale\n",
        "  lbp_photo = np.zeros((m, n),np.uint8) \n",
        "  # converting image to lbp\n",
        "  for i in range(0,m): \n",
        "      for j in range(0,n): \n",
        "          lbp_photo[i, j] = local_bin_val(gray_scale, i, j) \n",
        " \n",
        "  return lbp_photo"
      ]
    },
    {
      "cell_type": "code",
      "execution_count": null,
      "metadata": {
        "id": "i8WU6w66tWBG"
      },
      "outputs": [],
      "source": [
        "os.mkdir('/content/barakhadi_lbp')"
      ]
    },
    {
      "cell_type": "code",
      "execution_count": null,
      "metadata": {
        "id": "B5tGvV7OrRLQ"
      },
      "outputs": [],
      "source": [
        "vyanjan_jpg = ['ka','kha','ga','gha','ang','cha','chha','ja','za','nya','Tta','Ttha','Dda','Ddha','ana','ta','tha','da','dha','na','pa','pha','ba','bha','ma','ya','ra','la','va','sha','ssha','sa','ha','ksha','tra','dnya','blank','x']\n",
        "swara_jpg = ['a','aa','e','ee','u','uu','ae','ai','ao','au','am','aha']\n",
        "import fitz \n",
        "for i in range(38):\n",
        "  os.mkdir(\"/content/barakhadi_lbp/\" + vyanjan_jpg[37-i])\n",
        "  for j in range(12):\n",
        "      for k in range(len(pdfs)):\n",
        "          input = \"/content/barakhadi_jpg/\" + vyanjan_jpg[37-i] +\"/out_\" + vyanjan_jpg[37-i] + \"_\" + swara_jpg[j] + \"_\" + str(k+1) + \".jpg\"\n",
        "          photo1 = cv2.imread(input)\n",
        "          l=lbp(photo1)\n",
        "          cv2.imwrite(\"/content/barakhadi_lbp/\" + vyanjan_jpg[37-i] +\"/out_\" + vyanjan_jpg[37-i] + \"_\" + swara_jpg[j] + \"_\" + str(k+1) + \".jpg\",l)\n",
        "          pix.save(output)"
      ]
    },
    {
      "cell_type": "code",
      "execution_count": null,
      "metadata": {
        "id": "vT8t9fVarBsD"
      },
      "outputs": [],
      "source": [
        "photo1 = cv2.imread(\"/content/barakhadi_jpg/\" + vyanjan_jpg[37] +\"/out_\" + vyanjan_jpg[37] + \"_\" + swara_jpg[j] + \"_\" + str(3) + \".jpg\")"
      ]
    },
    {
      "cell_type": "code",
      "execution_count": null,
      "metadata": {
        "colab": {
          "base_uri": "https://localhost:8080/",
          "height": 301
        },
        "id": "swiq9pJgrE0c",
        "outputId": "8a193fe5-a69f-4f56-a838-f7b17b3947ea"
      },
      "outputs": [
        {
          "data": {
            "image/png": "[encoded data removed]",
            "text/plain": [
              "<Figure size 432x288 with 1 Axes>"
            ]
          },
          "metadata": {},
          "output_type": "display_data"
        },
        {
          "name": "stdout",
          "output_type": "stream",
          "text": [
            "42\n"
          ]
        },
        {
          "data": {
            "text/plain": [
              "True"
            ]
          },
          "execution_count": 19,
          "metadata": {},
          "output_type": "execute_result"
        }
      ],
      "source": [
        "l=lbp(photo1)\n",
        "from matplotlib import pyplot as plt\n",
        "plt.imshow(l, cmap =\"gray\") \n",
        "plt.show()\n",
        "print(len(l[1]))\n",
        "cv2.imwrite('out.png',l)"
      ]
    },
    {
      "cell_type": "code",
      "execution_count": null,
      "metadata": {
        "id": "br1bMFTvrmti"
      },
      "outputs": [],
      "source": []
    },
    {
      "cell_type": "markdown",
      "metadata": {
        "id": "Eg0wSIKuPDMI"
      },
      "source": [
        "# Gabor"
      ]
    },
    {
      "cell_type": "code",
      "execution_count": null,
      "metadata": {
        "id": "B_x4K7qjRBAk"
      },
      "outputs": [],
      "source": [
        "# Delete directories in Python using shutil\n",
        "import shutil\n",
        "path = '/content/barakhadi_gabor'\n",
        "shutil.rmtree(path, ignore_errors=True)"
      ]
    },
    {
      "cell_type": "code",
      "execution_count": null,
      "metadata": {
        "id": "RHgSgKheQZil"
      },
      "outputs": [],
      "source": [
        "os.mkdir('/content/barakhadi_gabor')"
      ]
    },
    {
      "cell_type": "code",
      "execution_count": null,
      "metadata": {
        "id": "DyKJQCncPFf6"
      },
      "outputs": [],
      "source": [
        "import cv2\n",
        "import os\n",
        "import glob\n",
        "import numpy as np\n",
        "\n",
        "\n",
        "img_dir = \"images\" \n",
        "data_path = os.path.join(img_dir,'*g')\n",
        "files = glob.glob(data_path)\n",
        "data = []\n",
        "\n",
        "vyanjan_jpg = ['ka','kha','ga','gha','ang','cha','chha','ja','za','nya','Tta','Ttha','Dda','Ddha','ana','ta','tha','da','dha','na','pa','pha','ba','bha','ma','ya','ra','la','va','sha','ssha','sa','ha','ksha','tra','dnya','blank','x']\n",
        "swara_jpg = ['a','aa','e','ee','u','uu','ae','ai','ao','au','am','aha']\n",
        "import fitz \n",
        "for i in range(38):\n",
        "  os.mkdir(\"/content/barakhadi_gabor/\" + vyanjan_jpg[37-i])\n",
        "  for j in range(12):\n",
        "      for k in range(len(pdfs)):\n",
        "          input = \"/content/barakhadi_jpg/\" + vyanjan_jpg[37-i] +\"/out_\" + vyanjan_jpg[37-i] + \"_\" + swara_jpg[j] + \"_\" + str(k+1) + \".jpg\"\n",
        "          img = cv2.imread(input,0)\n",
        "          data.append(img)\n",
        "          img = cv2.threshold(img, 127, 255, cv2.THRESH_BINARY)[1]  \n",
        "          ret, labels = cv2.connectedComponents(img)\n",
        "          label_hue = np.uint8(179*labels/np.max(labels))\n",
        "          blank_ch = 255*np.ones_like(label_hue)\n",
        "          labeled_img = cv2.merge([label_hue, blank_ch, blank_ch])\n",
        "          labeled_img = cv2.cvtColor(labeled_img, cv2.COLOR_HSV2BGR)\n",
        "          labeled_img[label_hue==0] = 0\n",
        "          cv2.imwrite('labeled.png', labeled_img)\n",
        "          cv2.waitKey()\n",
        "          \n",
        "\n",
        "          def build_filters():\n",
        "              filters = []\n",
        "              ksize = 31\n",
        "              for theta in np.arange(0, np.pi, np.pi / 16):\n",
        "                  kern = cv2.getGaborKernel((ksize, ksize), 4.0, theta, 10.0, 0.5, 0, ktype=cv2.CV_32F)\n",
        "                  kern /= 1.5*kern.sum()\n",
        "                  filters.append(kern)\n",
        "              return filters\n",
        "\n",
        "          def process(img, filters):\n",
        "              accum = np.zeros_like(img)\n",
        "              for kern in filters:\n",
        "                  fimg = cv2.filter2D(img, cv2.CV_8UC3, kern)\n",
        "                  np.maximum(accum, fimg, accum)\n",
        "              return accum\n",
        "\n",
        "          filters=build_filters()\n",
        "          res1=process(img,filters)\n",
        "          cv2.imwrite(\"/content/barakhadi_gabor/\" + vyanjan_jpg[37-i] +\"/out_\" + vyanjan_jpg[37-i] + \"_\" + swara_jpg[j] + \"_\" + str(k+1) + \".jpg\",res1)"
      ]
    },
    {
      "cell_type": "markdown",
      "metadata": {
        "id": "JEpW28vArsIF"
      },
      "source": [
        "# CLassification Characters"
      ]
    },
    {
      "cell_type": "code",
      "execution_count": null,
      "metadata": {
        "colab": {
          "base_uri": "https://localhost:8080/"
        },
        "id": "-sRKllgosJyi",
        "outputId": "a30a1037-106b-498e-e855-fa4f3c57c0a4"
      },
      "outputs": [
        {
          "output_type": "stream",
          "name": "stdout",
          "text": [
            "loading... category : da\n",
            "out_da_u_5.jpg\n",
            "out_da_aa_3.jpg\n",
            "out_da_ee_4.jpg\n",
            "out_da_uu_4.jpg\n",
            "out_da_ai_5.jpg\n",
            "out_da_aha_5.jpg\n",
            "out_da_a_1.jpg\n",
            "out_da_au_2.jpg\n",
            "out_da_aha_4.jpg\n",
            "out_da_ae_4.jpg\n",
            "out_da_ao_4.jpg\n",
            "out_da_u_4.jpg\n",
            "out_da_aha_1.jpg\n",
            "out_da_aa_5.jpg\n",
            "out_da_aha_2.jpg\n",
            "out_da_au_3.jpg\n",
            "out_da_a_3.jpg\n",
            "out_da_aa_1.jpg\n",
            "out_da_ae_1.jpg\n",
            "out_da_e_3.jpg\n",
            "out_da_am_2.jpg\n",
            "out_da_ae_2.jpg\n",
            "out_da_ao_3.jpg\n",
            "out_da_e_4.jpg\n",
            "out_da_am_5.jpg\n",
            "out_da_ae_3.jpg\n",
            "out_da_u_2.jpg\n",
            "out_da_am_4.jpg\n",
            "out_da_uu_2.jpg\n",
            "out_da_e_5.jpg\n",
            "out_da_ao_1.jpg\n",
            "out_da_aa_4.jpg\n",
            "out_da_uu_1.jpg\n",
            "out_da_ao_5.jpg\n",
            "out_da_ee_1.jpg\n",
            "out_da_ae_5.jpg\n",
            "out_da_ai_4.jpg\n",
            "out_da_au_1.jpg\n",
            "out_da_e_1.jpg\n",
            "out_da_ai_3.jpg\n",
            "out_da_ee_5.jpg\n",
            "out_da_e_2.jpg\n",
            "out_da_u_3.jpg\n",
            "out_da_au_5.jpg\n",
            "out_da_aa_2.jpg\n",
            "out_da_ai_1.jpg\n",
            "out_da_a_2.jpg\n",
            "out_da_uu_3.jpg\n",
            "out_da_aha_3.jpg\n",
            "out_da_ao_2.jpg\n",
            "out_da_au_4.jpg\n",
            "out_da_a_4.jpg\n",
            "out_da_am_3.jpg\n",
            "out_da_ee_2.jpg\n",
            "out_da_a_5.jpg\n",
            "out_da_ee_3.jpg\n",
            "out_da_am_1.jpg\n",
            "out_da_u_1.jpg\n",
            "out_da_ai_2.jpg\n",
            "out_da_uu_5.jpg\n",
            "loaded category:da successfully\n",
            "loading... category : dha\n",
            "out_dha_a_2.jpg\n",
            "out_dha_aha_1.jpg\n",
            "out_dha_am_2.jpg\n",
            "out_dha_ae_4.jpg\n",
            "out_dha_a_3.jpg\n",
            "out_dha_am_3.jpg\n",
            "out_dha_a_5.jpg\n",
            "out_dha_ao_4.jpg\n",
            "out_dha_uu_1.jpg\n",
            "out_dha_e_2.jpg\n",
            "out_dha_au_4.jpg\n",
            "out_dha_am_5.jpg\n",
            "out_dha_au_2.jpg\n",
            "out_dha_ao_1.jpg\n",
            "out_dha_ao_5.jpg\n",
            "out_dha_au_3.jpg\n",
            "out_dha_ae_1.jpg\n",
            "out_dha_ai_1.jpg\n",
            "out_dha_u_4.jpg\n",
            "out_dha_u_2.jpg\n",
            "out_dha_ai_3.jpg\n",
            "out_dha_aha_2.jpg\n",
            "out_dha_ee_3.jpg\n",
            "out_dha_e_3.jpg\n",
            "out_dha_aa_4.jpg\n",
            "out_dha_ee_5.jpg\n",
            "out_dha_aa_2.jpg\n",
            "out_dha_aa_1.jpg\n",
            "out_dha_a_4.jpg\n",
            "out_dha_ao_3.jpg\n",
            "out_dha_a_1.jpg\n",
            "out_dha_u_5.jpg\n",
            "out_dha_ee_4.jpg\n",
            "out_dha_u_3.jpg\n",
            "out_dha_u_1.jpg\n",
            "out_dha_am_4.jpg\n",
            "out_dha_e_5.jpg\n",
            "out_dha_am_1.jpg\n",
            "out_dha_uu_4.jpg\n",
            "out_dha_ai_4.jpg\n",
            "out_dha_uu_5.jpg\n",
            "out_dha_ae_5.jpg\n",
            "out_dha_uu_3.jpg\n",
            "out_dha_aha_4.jpg\n",
            "out_dha_au_5.jpg\n",
            "out_dha_ai_5.jpg\n",
            "out_dha_e_4.jpg\n",
            "out_dha_ai_2.jpg\n",
            "out_dha_aha_3.jpg\n",
            "out_dha_ao_2.jpg\n",
            "out_dha_ee_1.jpg\n",
            "out_dha_aa_5.jpg\n",
            "out_dha_ae_3.jpg\n",
            "out_dha_aha_5.jpg\n",
            "out_dha_e_1.jpg\n",
            "out_dha_uu_2.jpg\n",
            "out_dha_aa_3.jpg\n",
            "out_dha_au_1.jpg\n",
            "out_dha_ee_2.jpg\n",
            "out_dha_ae_2.jpg\n",
            "loaded category:dha successfully\n"
          ]
        }
      ],
      "source": [
        "import pandas as pd\n",
        "import os\n",
        "from skimage.transform import resize\n",
        "from skimage.io import imread\n",
        "import numpy as np\n",
        "import matplotlib.pyplot as plt\n",
        "Categories=['da','dha']\n",
        "flat_data_arr=[] #input array\n",
        "target_arr=[] #output array\n",
        "#datadir='barakhadi_lbp' \n",
        "datadir='barakhadi_lbp'\n",
        "#path which contains all the categories of images\n",
        "for i in Categories:\n",
        "    print(f'loading... category : {i}')\n",
        "    path=os.path.join(datadir,i)\n",
        "    for img in os.listdir(path):\n",
        "        print(img)\n",
        "        img_array=imread(os.path.join(path,img))\n",
        "        img_resized=resize(img_array,(150,150,3))\n",
        "        flat_data_arr.append(img_resized.flatten())\n",
        "        target_arr.append(Categories.index(i))\n",
        "    print(f'loaded category:{i} successfully')\n",
        "flat_data=np.array(flat_data_arr)\n",
        "target=np.array(target_arr)\n",
        "df=pd.DataFrame(flat_data) #dataframe\n",
        "df['Target']=target\n",
        "x=df.iloc[:,:-1] #input data \n",
        "y=df.iloc[:,-1] #output data"
      ]
    },
    {
      "cell_type": "code",
      "execution_count": null,
      "metadata": {
        "id": "mDWef8CVsNd0"
      },
      "outputs": [],
      "source": [
        "from sklearn import svm\n",
        "from sklearn.model_selection import GridSearchCV\n",
        "param_grid={'C':[0.1,1,10,100],'gamma':[0.0001,0.001,0.1,1],'kernel':['rbf','poly']}\n",
        "svc=svm.SVC(probability=True)\n",
        "model=GridSearchCV(svc,param_grid)"
      ]
    },
    {
      "cell_type": "code",
      "execution_count": null,
      "metadata": {
        "colab": {
          "base_uri": "https://localhost:8080/"
        },
        "id": "4vax2EPMvUtJ",
        "outputId": "645718e1-a2e1-4ee4-aa31-6ac2538cd341"
      },
      "outputs": [
        {
          "output_type": "stream",
          "name": "stdout",
          "text": [
            "Splitted Successfully\n",
            "The Model is trained well with the given images\n"
          ]
        }
      ],
      "source": [
        "from sklearn.model_selection import train_test_split\n",
        "x_train,x_test,y_train,y_test=train_test_split(x,y,test_size=0.20,random_state=77,stratify=y)\n",
        "print('Splitted Successfully')\n",
        "model.fit(x_train,y_train)\n",
        "print('The Model is trained well with the given images')\n",
        "# model.best_params_ contains the best parameters obtained from GridSearchCV"
      ]
    },
    {
      "cell_type": "code",
      "execution_count": null,
      "metadata": {
        "id": "FwJ_bYYdFQW3"
      },
      "outputs": [],
      "source": [
        "import pickle\n",
        "Pkl_Filename = \"model_characters.pkl\"  \n",
        "\n",
        "with open(Pkl_Filename, 'wb') as file:  \n",
        "    pickle.dump(model, file)"
      ]
    },
    {
      "cell_type": "code",
      "execution_count": null,
      "metadata": {
        "colab": {
          "base_uri": "https://localhost:8080/"
        },
        "id": "XmAX9zx8xT-h",
        "outputId": "fe321b67-c92c-4a75-e1fe-bca94e6de0ea"
      },
      "outputs": [
        {
          "output_type": "stream",
          "name": "stdout",
          "text": [
            "The predicted Data is :\n",
            "[0 0 0 0 0 0 1 1 1 1 1 1 0 0 1 0 0 1 1 0 0 1 1 1]\n",
            "The actual data is:\n",
            "[0 0 0 0 0 0 1 1 1 1 1 1 0 0 1 0 0 1 1 1 0 1 0 1]\n",
            "The model is 91.66666666666666% accurate\n"
          ]
        }
      ],
      "source": [
        "from sklearn.metrics import accuracy_score\n",
        "y_pred=model.predict(x_test)\n",
        "print(\"The predicted Data is :\")\n",
        "print(y_pred)\n",
        "print(\"The actual data is:\")\n",
        "print(np.array(y_test))\n",
        "print(f\"The model is {accuracy_score(y_pred,y_test)*100}% accurate\")"
      ]
    },
    {
      "cell_type": "code",
      "execution_count": null,
      "metadata": {
        "id": "9yG9SBnLfk0A"
      },
      "outputs": [],
      "source": [
        "from pydantic import BaseModel\n",
        "\n",
        "class Character(BaseModel):\n",
        "    img = ''\n",
        "    class Config:\n",
        "        schema_extra = {\n",
        "            \"example\": {\n",
        "                \"img\": \"https://upload.wikimedia.org/wikipedia/commons/thumb/c/c5/Devanagari_dh.svg/220px-Devanagari_dh.svg.png\"\n",
        "                #https://2.bp.blogspot.com/-D6xlJELDk-E/XOf0CGkhx8I/AAAAAAAAC8A/BHM5Y-BwY-4MBMXfLMU8_Jxeh2nA1TzNACLcBGAs/w1200-h630-p-k-no-nu/marathi-baby-boy-names-by-initial-d.png\n",
        "            }\n",
        "        }"
      ]
    },
    {
      "cell_type": "code",
      "execution_count": null,
      "metadata": {
        "id": "mhdIaWSKHXAK"
      },
      "outputs": [],
      "source": [
        "from fastapi import FastAPI\n",
        "import pickle\n",
        "\n",
        "app = FastAPI()\n",
        "\n",
        "@app.on_event(\"startup\")\n",
        "def load_model():\n",
        "    global model\n",
        "    model = pickle.load(open(\"model_characters.pkl\", \"rb\"))\n",
        "\n",
        "@app.get('/')\n",
        "def index():\n",
        "    return {'message': 'This is the homepage of the API '}\n",
        "\n",
        "\n",
        "@app.post('/predict')\n",
        "def get_character_category(data: Character):\n",
        "    Categ = ['da','dha']\n",
        "    recieved = data.dict()\n",
        "    img=imread(recieved['img'])\n",
        "    img_resize=resize(img,(150,150,3))\n",
        "    l=[img_resize.flatten()]\n",
        "    pred_name = model.predict(l)[0]\n",
        "    return {'prediction': Categ[pred_name]}"
      ]
    },
    {
      "cell_type": "code",
      "execution_count": null,
      "metadata": {
        "colab": {
          "base_uri": "https://localhost:8080/",
          "height": 319
        },
        "id": "kgh-yFiGy789",
        "outputId": "0772a240-9bfe-4794-d741-da79caa19ce2"
      },
      "outputs": [
        {
          "data": {
            "image/png": "[encoded data removed]",
            "text/plain": [
              "<Figure size 432x288 with 1 Axes>"
            ]
          },
          "metadata": {},
          "output_type": "display_data"
        },
        {
          "name": "stdout",
          "output_type": "stream",
          "text": [
            "da = 3.3898799573399003%\n",
            "dha = 96.61012004266009%\n",
            "The predicted image is : dha\n"
          ]
        }
      ],
      "source": [
        "user_input = 'out_dha_a_1.jpg'\n",
        "#user_input = input()\n",
        "img=imread('content/barakhadi_lbp/dha/' + user_input)\n",
        "plt.imshow(img)\n",
        "plt.show()\n",
        "img_resize=resize(img,(150,150,3))\n",
        "l=[img_resize.flatten()]\n",
        "probability=model.predict_proba(l)\n",
        "for ind,val in enumerate(Categories):\n",
        "    print(f'{val} = {probability[0][ind]*100}%')\n",
        "print(\"The predicted image is : \"+Categories[model.predict(l)[0]])"
      ]
    },
    {
      "cell_type": "code",
      "execution_count": null,
      "metadata": {
        "id": "6rj7FhIkH2TS"
      },
      "outputs": [],
      "source": [
        "from colabcode import ColabCode\n",
        "server = ColabCode(port=10000, code=False)"
      ]
    },
    {
      "cell_type": "code",
      "source": [
        "server.run_app(app=app)"
      ],
      "metadata": {
        "id": "ZrmggqGx7Daf"
      },
      "execution_count": null,
      "outputs": []
    },
    {
      "cell_type": "code",
      "execution_count": null,
      "metadata": {
        "colab": {
          "base_uri": "https://localhost:8080/"
        },
        "id": "cIurcenuOi1W",
        "outputId": "819d568c-625e-4ca1-f4b7-b605ffa2aa34"
      },
      "outputs": [
        {
          "output_type": "stream",
          "name": "stdout",
          "text": [
            "/drive/ngrok-ssh\n",
            "--2022-05-06 03:42:49--  https://bin.equinox.io/c/4VmDzA7iaHb/ngrok-stable-linux-amd64.zip\n",
            "Resolving bin.equinox.io (bin.equinox.io)... 54.161.241.46, 54.237.133.81, 18.205.222.128, ...\n",
            "Connecting to bin.equinox.io (bin.equinox.io)|54.161.241.46|:443... connected.\n",
            "HTTP request sent, awaiting response... 200 OK\n",
            "Length: 13832437 (13M) [application/octet-stream]\n",
            "Saving to: ‘ngrok-stable-linux-amd64.zip’\n",
            "\n",
            "ngrok-stable-linux- 100%[===================>]  13.19M  14.0MB/s    in 0.9s    \n",
            "\n",
            "2022-05-06 03:42:51 (14.0 MB/s) - ‘ngrok-stable-linux-amd64.zip’ saved [13832437/13832437]\n",
            "\n",
            "Archive:  ngrok-stable-linux-amd64.zip\n",
            "  inflating: ngrok                   \n"
          ]
        }
      ],
      "source": [
        "!mkdir -p /drive/ngrok-ssh\n",
        "%cd /drive/ngrok-ssh\n",
        "!wget https://bin.equinox.io/c/4VmDzA7iaHb/ngrok-stable-linux-amd64.zip -O ngrok-stable-linux-amd64.zip\n",
        "!unzip -u ngrok-stable-linux-amd64.zip\n",
        "!cp /drive/ngrok-ssh/ngrok /ngrok\n",
        "!chmod +x /ngrok"
      ]
    },
    {
      "cell_type": "code",
      "execution_count": null,
      "metadata": {
        "colab": {
          "base_uri": "https://localhost:8080/"
        },
        "id": "3KEs6MXIOsGg",
        "outputId": "7902cb8f-f645-4d44-fd60-b476da1c54f6"
      },
      "outputs": [
        {
          "output_type": "stream",
          "name": "stdout",
          "text": [
            "Authtoken saved to configuration file: /root/.ngrok2/ngrok.yml\n"
          ]
        }
      ],
      "source": [
        "!/ngrok authtoken 28jhYHZjFz5xtQkkvETjPYcZIbB_qn2pbNYrBq9JcJ89Rm39"
      ]
    },
    {
      "cell_type": "code",
      "source": [
        "%cd .."
      ],
      "metadata": {
        "colab": {
          "base_uri": "https://localhost:8080/"
        },
        "id": "SXPfJckxdr-d",
        "outputId": "2236f869-64f5-4e6c-c362-7170795c5945"
      },
      "execution_count": null,
      "outputs": [
        {
          "output_type": "stream",
          "name": "stdout",
          "text": [
            "/\n"
          ]
        }
      ]
    },
    {
      "cell_type": "markdown",
      "metadata": {
        "id": "ghlm9uhN1O2c"
      },
      "source": [
        "# Multiple models"
      ]
    },
    {
      "cell_type": "code",
      "execution_count": null,
      "metadata": {
        "id": "JcSwJUHy0_94"
      },
      "outputs": [],
      "source": [
        "from sklearn.linear_model import LinearRegression,LogisticRegression\n",
        "from sklearn.tree import DecisionTreeRegressor,DecisionTreeClassifier\n",
        "from sklearn.ensemble import RandomForestRegressor,RandomForestClassifier\n",
        "from sklearn.ensemble import GradientBoostingRegressor,GradientBoostingClassifier\n",
        "from sklearn.ensemble import AdaBoostRegressor,AdaBoostClassifier\n",
        "from sklearn.ensemble import ExtraTreesRegressor,ExtraTreesClassifier\n",
        "from sklearn.neighbors import KNeighborsRegressor,KNeighborsClassifier\n",
        "from sklearn.svm import SVR,SVC\n",
        "from sklearn.naive_bayes import GaussianNB\n",
        "\n",
        "from sklearn.metrics import accuracy_score,mean_squared_error"
      ]
    },
    {
      "cell_type": "code",
      "execution_count": null,
      "metadata": {
        "colab": {
          "base_uri": "https://localhost:8080/"
        },
        "id": "NXAgtvIO1R8F",
        "outputId": "5f5744a7-77ec-46a8-a7b1-ef32ba7a72e4"
      },
      "outputs": [
        {
          "name": "stderr",
          "output_type": "stream",
          "text": [
            "/usr/local/lib/python3.7/dist-packages/sklearn/linear_model/_logistic.py:818: ConvergenceWarning: lbfgs failed to converge (status=1):\n",
            "STOP: TOTAL NO. of ITERATIONS REACHED LIMIT.\n",
            "\n",
            "Increase the number of iterations (max_iter) or scale the data as shown in:\n",
            "    https://scikit-learn.org/stable/modules/preprocessing.html\n",
            "Please also refer to the documentation for alternative solver options:\n",
            "    https://scikit-learn.org/stable/modules/linear_model.html#logistic-regression\n",
            "  extra_warning_msg=_LOGISTIC_SOLVER_CONVERGENCE_MSG,\n",
            "\n"
          ]
        },
        {
          "name": "stdout",
          "output_type": "stream",
          "text": [
            "Logistic Regression : 0.8333333333333334\n",
            "Decision Tree Classification : 0.5\n",
            "Random Forest Classification : 0.75\n",
            "Gradient Boosting Classification : 0.5416666666666666\n",
            "Ada Boosting Classification : 0.75\n",
            "Extra Tree Classification : 0.75\n",
            "K-Neighbors Classification : 0.8333333333333334\n",
            "Gausian Naive Bayes : 0.7083333333333334\n"
          ]
        }
      ],
      "source": [
        "classifiers=[['Logistic Regression :',LogisticRegression()],\n",
        "       ['Decision Tree Classification :',DecisionTreeClassifier()],\n",
        "       ['Random Forest Classification :',RandomForestClassifier()],\n",
        "       ['Gradient Boosting Classification :', GradientBoostingClassifier()],\n",
        "       ['Ada Boosting Classification :',AdaBoostClassifier()],\n",
        "       ['Extra Tree Classification :', ExtraTreesClassifier()],\n",
        "       ['K-Neighbors Classification :',KNeighborsClassifier()],\n",
        "       ['Gausian Naive Bayes :',GaussianNB()]]\n",
        "cla_pred=[]\n",
        "for name,model in classifiers:\n",
        "    model=model\n",
        "    model.fit(x_train,y_train)\n",
        "    predictions = model.predict(x_test)\n",
        "    cla_pred.append(accuracy_score(y_test,predictions))\n",
        "    print(name,accuracy_score(y_test,predictions))"
      ]
    },
    {
      "cell_type": "code",
      "execution_count": null,
      "metadata": {
        "colab": {
          "base_uri": "https://localhost:8080/"
        },
        "id": "7W68Agpx1V0f",
        "outputId": "1b06f0f8-d810-46a5-d8b3-b676e62a82ef"
      },
      "outputs": [
        {
          "name": "stdout",
          "output_type": "stream",
          "text": [
            "0.75\n"
          ]
        }
      ],
      "source": [
        "model = SVC()\n",
        "model.fit(x_train,y_train)\n",
        "predictions = model.predict(x_test)\n",
        "cla_pred.append(accuracy_score(y_test,predictions))\n",
        "print(accuracy_score(y_test,predictions))"
      ]
    },
    {
      "cell_type": "markdown",
      "metadata": {
        "id": "V2YI469gu9Ws"
      },
      "source": [
        "# MLP Classifier"
      ]
    },
    {
      "cell_type": "code",
      "execution_count": null,
      "metadata": {
        "colab": {
          "base_uri": "https://localhost:8080/"
        },
        "id": "0Ln03_Rguxtz",
        "outputId": "060360bc-8ea4-4df6-d07a-f5a5d0f560b7"
      },
      "outputs": [
        {
          "name": "stdout",
          "output_type": "stream",
          "text": [
            "0.5\n"
          ]
        }
      ],
      "source": [
        "from sklearn.neural_network import MLPClassifier \n",
        "\n",
        "mlp = MLPClassifier(hidden_layer_sizes=(100, ), \n",
        "                    max_iter=480, \n",
        "                    alpha=1e-4,\n",
        "                    solver='sgd', \n",
        "                    tol=1e-4, \n",
        "                    random_state=1,\n",
        "                    learning_rate_init=.1)\n",
        "mlp.fit(x_train, y_train)\n",
        "predictions = mlp.predict(x_test)\n",
        "print(accuracy_score(y_test,predictions))"
      ]
    },
    {
      "cell_type": "markdown",
      "metadata": {
        "id": "l93wY4Tr3tWc"
      },
      "source": [
        "# Stacking Classifiers"
      ]
    },
    {
      "cell_type": "code",
      "execution_count": null,
      "metadata": {
        "colab": {
          "base_uri": "https://localhost:8080/"
        },
        "id": "H47H6rIIvQiU",
        "outputId": "7009e9be-20f3-4c8d-90e2-e9488246fe08"
      },
      "outputs": [
        {
          "name": "stdout",
          "output_type": "stream",
          "text": [
            "0.8333333333333334\n"
          ]
        }
      ],
      "source": [
        "from sklearn.ensemble import StackingClassifier\n",
        "from sklearn.preprocessing import StandardScaler\n",
        "from sklearn.pipeline import make_pipeline\n",
        "estimators = [     ('rf', RandomForestClassifier(n_estimators=10, random_state=42)),     ('svr', make_pipeline(StandardScaler(),  SVC(random_state=42))) ]\n",
        "clf = StackingClassifier(estimators=estimators, final_estimator=LogisticRegression())\n",
        "clf.fit(x_train, y_train)\n",
        "predictions = clf.predict(x_test)\n",
        "print(accuracy_score(y_test,predictions))"
      ]
    }
  ],
  "metadata": {
    "colab": {
      "collapsed_sections": [
        "t6UuY4_qe2Jd",
        "G58ifi3Iq0RJ",
        "Eg0wSIKuPDMI",
        "ghlm9uhN1O2c",
        "V2YI469gu9Ws",
        "l93wY4Tr3tWc"
      ],
      "provenance": []
    },
    "kernelspec": {
      "display_name": "Python 3",
      "name": "python3"
    },
    "language_info": {
      "name": "python"
    }
  },
  "nbformat": 4,
  "nbformat_minor": 0
}